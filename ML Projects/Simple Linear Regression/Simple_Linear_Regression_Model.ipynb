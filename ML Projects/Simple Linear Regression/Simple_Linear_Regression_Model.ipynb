{
 "cells": [
  {
   "cell_type": "markdown",
   "metadata": {},
   "source": [
    "# Simple Linear Regression"
   ]
  },
  {
   "cell_type": "code",
   "execution_count": 1,
   "metadata": {},
   "outputs": [],
   "source": [
    "import pandas as pd\n",
    "import seaborn as sns\n",
    "import numpy as np\n",
    "from sklearn.model_selection import train_test_split\n",
    "from sklearn.linear_model import LinearRegression"
   ]
  },
  {
   "cell_type": "code",
   "execution_count": 3,
   "metadata": {},
   "outputs": [
    {
     "data": {
      "text/plain": [
       "['anagrams',\n",
       " 'anscombe',\n",
       " 'attention',\n",
       " 'brain_networks',\n",
       " 'car_crashes',\n",
       " 'diamonds',\n",
       " 'dots',\n",
       " 'exercise',\n",
       " 'flights',\n",
       " 'fmri',\n",
       " 'gammas',\n",
       " 'geyser',\n",
       " 'iris',\n",
       " 'mpg',\n",
       " 'penguins',\n",
       " 'planets',\n",
       " 'taxis',\n",
       " 'tips',\n",
       " 'titanic']"
      ]
     },
     "execution_count": 3,
     "metadata": {},
     "output_type": "execute_result"
    }
   ],
   "source": [
    "sns.get_dataset_names"
   ]
  },
  {
   "cell_type": "code",
   "execution_count": 19,
   "metadata": {},
   "outputs": [
    {
     "data": {
      "text/html": [
       "<div>\n",
       "<style scoped>\n",
       "    .dataframe tbody tr th:only-of-type {\n",
       "        vertical-align: middle;\n",
       "    }\n",
       "\n",
       "    .dataframe tbody tr th {\n",
       "        vertical-align: top;\n",
       "    }\n",
       "\n",
       "    .dataframe thead th {\n",
       "        text-align: right;\n",
       "    }\n",
       "</style>\n",
       "<table border=\"1\" class=\"dataframe\">\n",
       "  <thead>\n",
       "    <tr style=\"text-align: right;\">\n",
       "      <th></th>\n",
       "      <th>duration</th>\n",
       "      <th>waiting</th>\n",
       "      <th>kind</th>\n",
       "    </tr>\n",
       "  </thead>\n",
       "  <tbody>\n",
       "    <tr>\n",
       "      <th>0</th>\n",
       "      <td>3.600</td>\n",
       "      <td>79</td>\n",
       "      <td>long</td>\n",
       "    </tr>\n",
       "    <tr>\n",
       "      <th>1</th>\n",
       "      <td>1.800</td>\n",
       "      <td>54</td>\n",
       "      <td>short</td>\n",
       "    </tr>\n",
       "    <tr>\n",
       "      <th>2</th>\n",
       "      <td>3.333</td>\n",
       "      <td>74</td>\n",
       "      <td>long</td>\n",
       "    </tr>\n",
       "    <tr>\n",
       "      <th>3</th>\n",
       "      <td>2.283</td>\n",
       "      <td>62</td>\n",
       "      <td>short</td>\n",
       "    </tr>\n",
       "    <tr>\n",
       "      <th>4</th>\n",
       "      <td>4.533</td>\n",
       "      <td>85</td>\n",
       "      <td>long</td>\n",
       "    </tr>\n",
       "  </tbody>\n",
       "</table>\n",
       "</div>"
      ],
      "text/plain": [
       "   duration  waiting   kind\n",
       "0     3.600       79   long\n",
       "1     1.800       54  short\n",
       "2     3.333       74   long\n",
       "3     2.283       62  short\n",
       "4     4.533       85   long"
      ]
     },
     "execution_count": 19,
     "metadata": {},
     "output_type": "execute_result"
    }
   ],
   "source": [
    "data=sns.load_dataset('geyser')\n",
    "data.head()"
   ]
  },
  {
   "cell_type": "code",
   "execution_count": 21,
   "metadata": {},
   "outputs": [],
   "source": [
    "data.drop('kind',axis=1,inplace=True)"
   ]
  },
  {
   "cell_type": "code",
   "execution_count": 22,
   "metadata": {},
   "outputs": [
    {
     "data": {
      "text/html": [
       "<div>\n",
       "<style scoped>\n",
       "    .dataframe tbody tr th:only-of-type {\n",
       "        vertical-align: middle;\n",
       "    }\n",
       "\n",
       "    .dataframe tbody tr th {\n",
       "        vertical-align: top;\n",
       "    }\n",
       "\n",
       "    .dataframe thead th {\n",
       "        text-align: right;\n",
       "    }\n",
       "</style>\n",
       "<table border=\"1\" class=\"dataframe\">\n",
       "  <thead>\n",
       "    <tr style=\"text-align: right;\">\n",
       "      <th></th>\n",
       "      <th>duration</th>\n",
       "      <th>waiting</th>\n",
       "    </tr>\n",
       "  </thead>\n",
       "  <tbody>\n",
       "    <tr>\n",
       "      <th>0</th>\n",
       "      <td>3.600</td>\n",
       "      <td>79</td>\n",
       "    </tr>\n",
       "    <tr>\n",
       "      <th>1</th>\n",
       "      <td>1.800</td>\n",
       "      <td>54</td>\n",
       "    </tr>\n",
       "    <tr>\n",
       "      <th>2</th>\n",
       "      <td>3.333</td>\n",
       "      <td>74</td>\n",
       "    </tr>\n",
       "    <tr>\n",
       "      <th>3</th>\n",
       "      <td>2.283</td>\n",
       "      <td>62</td>\n",
       "    </tr>\n",
       "    <tr>\n",
       "      <th>4</th>\n",
       "      <td>4.533</td>\n",
       "      <td>85</td>\n",
       "    </tr>\n",
       "  </tbody>\n",
       "</table>\n",
       "</div>"
      ],
      "text/plain": [
       "   duration  waiting\n",
       "0     3.600       79\n",
       "1     1.800       54\n",
       "2     3.333       74\n",
       "3     2.283       62\n",
       "4     4.533       85"
      ]
     },
     "execution_count": 22,
     "metadata": {},
     "output_type": "execute_result"
    }
   ],
   "source": [
    "data.head()"
   ]
  },
  {
   "cell_type": "code",
   "execution_count": 23,
   "metadata": {},
   "outputs": [
    {
     "data": {
      "text/plain": [
       "<bound method NDFrame.describe of      duration  waiting\n",
       "0       3.600       79\n",
       "1       1.800       54\n",
       "2       3.333       74\n",
       "3       2.283       62\n",
       "4       4.533       85\n",
       "..        ...      ...\n",
       "267     4.117       81\n",
       "268     2.150       46\n",
       "269     4.417       90\n",
       "270     1.817       46\n",
       "271     4.467       74\n",
       "\n",
       "[272 rows x 2 columns]>"
      ]
     },
     "execution_count": 23,
     "metadata": {},
     "output_type": "execute_result"
    }
   ],
   "source": [
    "data.describe"
   ]
  },
  {
   "cell_type": "code",
   "execution_count": 24,
   "metadata": {},
   "outputs": [
    {
     "data": {
      "text/plain": [
       "(272, 2)"
      ]
     },
     "execution_count": 24,
     "metadata": {},
     "output_type": "execute_result"
    }
   ],
   "source": [
    "data.shape"
   ]
  },
  {
   "cell_type": "code",
   "execution_count": 25,
   "metadata": {},
   "outputs": [
    {
     "data": {
      "text/plain": [
       "<bound method DataFrame.info of      duration  waiting\n",
       "0       3.600       79\n",
       "1       1.800       54\n",
       "2       3.333       74\n",
       "3       2.283       62\n",
       "4       4.533       85\n",
       "..        ...      ...\n",
       "267     4.117       81\n",
       "268     2.150       46\n",
       "269     4.417       90\n",
       "270     1.817       46\n",
       "271     4.467       74\n",
       "\n",
       "[272 rows x 2 columns]>"
      ]
     },
     "execution_count": 25,
     "metadata": {},
     "output_type": "execute_result"
    }
   ],
   "source": [
    "data.info"
   ]
  },
  {
   "cell_type": "code",
   "execution_count": 28,
   "metadata": {},
   "outputs": [
    {
     "data": {
      "text/plain": [
       "<bound method NDFrame._add_numeric_operations.<locals>.sum of duration    126\n",
       "waiting      51\n",
       "dtype: int64>"
      ]
     },
     "execution_count": 28,
     "metadata": {},
     "output_type": "execute_result"
    }
   ],
   "source": [
    "data.nunique().sum"
   ]
  },
  {
   "cell_type": "code",
   "execution_count": 29,
   "metadata": {},
   "outputs": [],
   "source": [
    "data.to_csv('geyser.csv')"
   ]
  },
  {
   "cell_type": "code",
   "execution_count": 41,
   "metadata": {},
   "outputs": [],
   "source": [
    "data_sample=data.sample(100)"
   ]
  },
  {
   "cell_type": "code",
   "execution_count": 38,
   "metadata": {},
   "outputs": [],
   "source": [
    "sns.set(rc={'figure.figsize':(18,8)})"
   ]
  },
  {
   "cell_type": "code",
   "execution_count": 44,
   "metadata": {},
   "outputs": [
    {
     "data": {
      "text/plain": [
       "<AxesSubplot:xlabel='waiting', ylabel='duration'>"
      ]
     },
     "execution_count": 44,
     "metadata": {},
     "output_type": "execute_result"
    },
    {
     "data": {
      "image/png": "[encoded data removed]",
      "text/plain": [
       "<Figure size 1296x576 with 1 Axes>"
      ]
     },
     "metadata": {},
     "output_type": "display_data"
    }
   ],
   "source": [
    "sns.boxplot(x='waiting',y='duration',data=data_sample)"
   ]
  },
  {
   "cell_type": "code",
   "execution_count": 47,
   "metadata": {},
   "outputs": [
    {
     "data": {
      "text/plain": [
       "<AxesSubplot:xlabel='waiting', ylabel='count'>"
      ]
     },
     "execution_count": 47,
     "metadata": {},
     "output_type": "execute_result"
    },
    {
     "data": {
      "image/png": "[encoded data removed]",
      "text/plain": [
       "<Figure size 1296x576 with 1 Axes>"
      ]
     },
     "metadata": {},
     "output_type": "display_data"
    }
   ],
   "source": [
    "sns.countplot(x='waiting',data=data_sample)"
   ]
  },
  {
   "cell_type": "code",
   "execution_count": 51,
   "metadata": {},
   "outputs": [],
   "source": [
    "sns.set(rc={'figure.figsize':(20,8)})"
   ]
  },
  {
   "cell_type": "code",
   "execution_count": 54,
   "metadata": {},
   "outputs": [
    {
     "data": {
      "text/plain": [
       "<seaborn.axisgrid.FacetGrid at 0x2a777e21630>"
      ]
     },
     "execution_count": 54,
     "metadata": {},
     "output_type": "execute_result"
    },
    {
     "data": {
      "image/png": "[encoded data removed]",
      "text/plain": [
       "<Figure size 360x360 with 1 Axes>"
      ]
     },
     "metadata": {},
     "output_type": "display_data"
    }
   ],
   "source": [
    "sns.catplot(x='waiting',y='duration',data=data_sample)"
   ]
  },
  {
   "cell_type": "code",
   "execution_count": 62,
   "metadata": {},
   "outputs": [
    {
     "data": {
      "text/plain": [
       "<AxesSubplot:xlabel='duration', ylabel='waiting'>"
      ]
     },
     "execution_count": 62,
     "metadata": {},
     "output_type": "execute_result"
    },
    {
     "data": {
      "image/png": "[encoded data removed]",
      "text/plain": [
       "<Figure size 1440x576 with 1 Axes>"
      ]
     },
     "metadata": {},
     "output_type": "display_data"
    }
   ],
   "source": [
    "sns.lineplot(x='duration',y='waiting',data=data_sample)"
   ]
  },
  {
   "cell_type": "markdown",
   "metadata": {},
   "source": [
    "# Data Slicing"
   ]
  },
  {
   "cell_type": "code",
   "execution_count": 63,
   "metadata": {},
   "outputs": [],
   "source": [
    "x=data.iloc[:,:1]\n",
    "y=data.iloc[:,1:]"
   ]
  },
  {
   "cell_type": "markdown",
   "metadata": {},
   "source": [
    "# Model Fitting, Training, Testing"
   ]
  },
  {
   "cell_type": "code",
   "execution_count": 64,
   "metadata": {},
   "outputs": [],
   "source": [
    "x_train,x_test,y_train,y_test=train_test_split(x,y,test_size=0.2,random_state=0)"
   ]
  },
  {
   "cell_type": "code",
   "execution_count": 65,
   "metadata": {},
   "outputs": [
    {
     "data": {
      "text/html": [
       "<style>#sk-container-id-1 {color: black;background-color: white;}#sk-container-id-1 pre{padding: 0;}#sk-container-id-1 div.sk-toggleable {background-color: white;}#sk-container-id-1 label.sk-toggleable__label {cursor: pointer;display: block;width: 100%;margin-bottom: 0;padding: 0.3em;box-sizing: border-box;text-align: center;}#sk-container-id-1 label.sk-toggleable__label-arrow:before {content: \"▸\";float: left;margin-right: 0.25em;color: #696969;}#sk-container-id-1 label.sk-toggleable__label-arrow:hover:before {color: black;}#sk-container-id-1 div.sk-estimator:hover label.sk-toggleable__label-arrow:before {color: black;}#sk-container-id-1 div.sk-toggleable__content {max-height: 0;max-width: 0;overflow: hidden;text-align: left;background-color: #f0f8ff;}#sk-container-id-1 div.sk-toggleable__content pre {margin: 0.2em;color: black;border-radius: 0.25em;background-color: #f0f8ff;}#sk-container-id-1 input.sk-toggleable__control:checked~div.sk-toggleable__content {max-height: 200px;max-width: 100%;overflow: auto;}#sk-container-id-1 input.sk-toggleable__control:checked~label.sk-toggleable__label-arrow:before {content: \"▾\";}#sk-container-id-1 div.sk-estimator input.sk-toggleable__control:checked~label.sk-toggleable__label {background-color: #d4ebff;}#sk-container-id-1 div.sk-label input.sk-toggleable__control:checked~label.sk-toggleable__label {background-color: #d4ebff;}#sk-container-id-1 input.sk-hidden--visually {border: 0;clip: rect(1px 1px 1px 1px);clip: rect(1px, 1px, 1px, 1px);height: 1px;margin: -1px;overflow: hidden;padding: 0;position: absolute;width: 1px;}#sk-container-id-1 div.sk-estimator {font-family: monospace;background-color: #f0f8ff;border: 1px dotted black;border-radius: 0.25em;box-sizing: border-box;margin-bottom: 0.5em;}#sk-container-id-1 div.sk-estimator:hover {background-color: #d4ebff;}#sk-container-id-1 div.sk-parallel-item::after {content: \"\";width: 100%;border-bottom: 1px solid gray;flex-grow: 1;}#sk-container-id-1 div.sk-label:hover label.sk-toggleable__label {background-color: #d4ebff;}#sk-container-id-1 div.sk-serial::before {content: \"\";position: absolute;border-left: 1px solid gray;box-sizing: border-box;top: 0;bottom: 0;left: 50%;z-index: 0;}#sk-container-id-1 div.sk-serial {display: flex;flex-direction: column;align-items: center;background-color: white;padding-right: 0.2em;padding-left: 0.2em;position: relative;}#sk-container-id-1 div.sk-item {position: relative;z-index: 1;}#sk-container-id-1 div.sk-parallel {display: flex;align-items: stretch;justify-content: center;background-color: white;position: relative;}#sk-container-id-1 div.sk-item::before, #sk-container-id-1 div.sk-parallel-item::before {content: \"\";position: absolute;border-left: 1px solid gray;box-sizing: border-box;top: 0;bottom: 0;left: 50%;z-index: -1;}#sk-container-id-1 div.sk-parallel-item {display: flex;flex-direction: column;z-index: 1;position: relative;background-color: white;}#sk-container-id-1 div.sk-parallel-item:first-child::after {align-self: flex-end;width: 50%;}#sk-container-id-1 div.sk-parallel-item:last-child::after {align-self: flex-start;width: 50%;}#sk-container-id-1 div.sk-parallel-item:only-child::after {width: 0;}#sk-container-id-1 div.sk-dashed-wrapped {border: 1px dashed gray;margin: 0 0.4em 0.5em 0.4em;box-sizing: border-box;padding-bottom: 0.4em;background-color: white;}#sk-container-id-1 div.sk-label label {font-family: monospace;font-weight: bold;display: inline-block;line-height: 1.2em;}#sk-container-id-1 div.sk-label-container {text-align: center;}#sk-container-id-1 div.sk-container {/* jupyter's `normalize.less` sets `[hidden] { display: none; }` but bootstrap.min.css set `[hidden] { display: none !important; }` so we also need the `!important` here to be able to override the default hidden behavior on the sphinx rendered scikit-learn.org. See: https://github.com/scikit-learn/scikit-learn/issues/21755 */display: inline-block !important;position: relative;}#sk-container-id-1 div.sk-text-repr-fallback {display: none;}</style><div id=\"sk-container-id-1\" class=\"sk-top-container\"><div class=\"sk-text-repr-fallback\"><pre>LinearRegression()</pre><b>In a Jupyter environment, please rerun this cell to show the HTML representation or trust the notebook. <br />On GitHub, the HTML representation is unable to render, please try loading this page with nbviewer.org.</b></div><div class=\"sk-container\" hidden><div class=\"sk-item\"><div class=\"sk-estimator sk-toggleable\"><input class=\"sk-toggleable__control sk-hidden--visually\" id=\"sk-estimator-id-1\" type=\"checkbox\" checked><label for=\"sk-estimator-id-1\" class=\"sk-toggleable__label sk-toggleable__label-arrow\">LinearRegression</label><div class=\"sk-toggleable__content\"><pre>LinearRegression()</pre></div></div></div></div></div>"
      ],
      "text/plain": [
       "LinearRegression()"
      ]
     },
     "execution_count": 65,
     "metadata": {},
     "output_type": "execute_result"
    }
   ],
   "source": [
    "model=LinearRegression().fit(x_train,y_train)\n",
    "model"
   ]
  },
  {
   "cell_type": "code",
   "execution_count": 66,
   "metadata": {},
   "outputs": [
    {
     "name": "stderr",
     "output_type": "stream",
     "text": [
      "c:\\Users\\gulmu\\AppData\\Local\\Programs\\Python\\Python310\\lib\\site-packages\\sklearn\\base.py:450: UserWarning: X does not have valid feature names, but LinearRegression was fitted with feature names\n",
      "  warnings.warn(\n"
     ]
    },
    {
     "data": {
      "text/plain": [
       "array([[140.16647765]])"
      ]
     },
     "execution_count": 66,
     "metadata": {},
     "output_type": "execute_result"
    }
   ],
   "source": [
    "model.predict([[10]])"
   ]
  },
  {
   "cell_type": "code",
   "execution_count": 68,
   "metadata": {},
   "outputs": [
    {
     "data": {
      "text/plain": [
       "0.8125470430516122"
      ]
     },
     "execution_count": 68,
     "metadata": {},
     "output_type": "execute_result"
    }
   ],
   "source": [
    "model.score(x_train,y_train)"
   ]
  },
  {
   "cell_type": "code",
   "execution_count": 71,
   "metadata": {},
   "outputs": [
    {
     "data": {
      "text/plain": [
       "0.8064187451434306"
      ]
     },
     "execution_count": 71,
     "metadata": {},
     "output_type": "execute_result"
    }
   ],
   "source": [
    "model.score(x_test,y_test)"
   ]
  },
  {
   "cell_type": "code",
   "execution_count": 74,
   "metadata": {},
   "outputs": [
    {
     "data": {
      "text/plain": [
       "array([[84.73284668],\n",
       "       [54.88396846],\n",
       "       [79.93570553],\n",
       "       [58.08206255],\n",
       "       [79.22146452],\n",
       "       [77.8036428 ],\n",
       "       [76.20459576],\n",
       "       [78.86967417],\n",
       "       [85.61765271],\n",
       "       [82.41955861],\n",
       "       [58.96686859],\n",
       "       [69.09416655],\n",
       "       [81.53475258],\n",
       "       [53.99916243],\n",
       "       [73.53951734],\n",
       "       [56.66424084],\n",
       "       [54.35095278],\n",
       "       [59.14809392],\n",
       "       [79.58391518],\n",
       "       [81.53475258],\n",
       "       [68.92360153],\n",
       "       [58.26328789],\n",
       "       [74.60554871],\n",
       "       [57.01603119],\n",
       "       [84.73284668],\n",
       "       [71.9404703 ],\n",
       "       [53.46614674],\n",
       "       [81.0017369 ],\n",
       "       [55.94999982],\n",
       "       [77.8036428 ],\n",
       "       [79.7544802 ],\n",
       "       [52.93313106],\n",
       "       [81.53475258],\n",
       "       [84.73284668],\n",
       "       [76.20459576],\n",
       "       [86.15066839],\n",
       "       [82.06776826],\n",
       "       [61.631947  ],\n",
       "       [52.93313106],\n",
       "       [81.0017369 ],\n",
       "       [80.11693087],\n",
       "       [83.31502496],\n",
       "       [55.76877449],\n",
       "       [83.66681531],\n",
       "       [77.08940179],\n",
       "       [81.35352725],\n",
       "       [80.64994655],\n",
       "       [82.41955861],\n",
       "       [54.88396846],\n",
       "       [85.08463703],\n",
       "       [58.61507824],\n",
       "       [53.63671176],\n",
       "       [52.75190573],\n",
       "       [55.06519379],\n",
       "       [54.16972745]])"
      ]
     },
     "execution_count": 74,
     "metadata": {},
     "output_type": "execute_result"
    }
   ],
   "source": [
    "xtest=model.predict(x_test)\n",
    "xtest "
   ]
  },
  {
   "cell_type": "code",
   "execution_count": 75,
   "metadata": {},
   "outputs": [
    {
     "data": {
      "text/plain": [
       "array([[55.23575881],\n",
       "       [53.10369608],\n",
       "       [78.86967417],\n",
       "       [64.29702541],\n",
       "       [70.34142325],\n",
       "       [57.54904687],\n",
       "       [77.8036428 ],\n",
       "       [78.33665849],\n",
       "       [78.86967417],\n",
       "       [78.15543315],\n",
       "       [54.70274313],\n",
       "       [81.88654293],\n",
       "       [76.20459576],\n",
       "       [73.72074268],\n",
       "       [81.53475258],\n",
       "       [76.20459576],\n",
       "       [85.26586236],\n",
       "       [50.619843  ],\n",
       "       [73.35829201],\n",
       "       [74.25375836],\n",
       "       [57.01603119],\n",
       "       [54.53217811],\n",
       "       [72.82527633],\n",
       "       [82.60078395],\n",
       "       [81.88654293],\n",
       "       [53.10369608],\n",
       "       [76.55638611],\n",
       "       [56.83480586],\n",
       "       [70.87443893],\n",
       "       [83.13379963],\n",
       "       [71.58867995],\n",
       "       [52.21889005],\n",
       "       [53.28492141],\n",
       "       [82.9525743 ],\n",
       "       [52.21889005],\n",
       "       [79.0508995 ],\n",
       "       [87.57915042],\n",
       "       [81.18296223],\n",
       "       [80.28749588],\n",
       "       [55.76877449],\n",
       "       [76.20459576],\n",
       "       [81.88654293],\n",
       "       [83.31502496],\n",
       "       [53.10369608],\n",
       "       [81.53475258],\n",
       "       [83.66681531],\n",
       "       [53.10369608],\n",
       "       [77.98486814],\n",
       "       [54.53217811],\n",
       "       [84.01860566],\n",
       "       [58.79630357],\n",
       "       [82.60078395],\n",
       "       [57.01603119],\n",
       "       [79.93570553],\n",
       "       [52.21889005],\n",
       "       [52.5706804 ],\n",
       "       [54.70274313],\n",
       "       [81.53475258],\n",
       "       [57.90083722],\n",
       "       [75.85280541],\n",
       "       [81.88654293],\n",
       "       [79.40268985],\n",
       "       [77.45185245],\n",
       "       [53.46614674],\n",
       "       [57.36782154],\n",
       "       [73.18772699],\n",
       "       [80.11693087],\n",
       "       [77.08940179],\n",
       "       [74.42432338],\n",
       "       [78.86967417],\n",
       "       [54.70274313],\n",
       "       [82.60078395],\n",
       "       [52.03766472],\n",
       "       [77.08940179],\n",
       "       [77.62241747],\n",
       "       [83.83738033],\n",
       "       [69.09416655],\n",
       "       [84.19983099],\n",
       "       [76.73761144],\n",
       "       [87.21669976],\n",
       "       [75.67158007],\n",
       "       [53.10369608],\n",
       "       [54.88396846],\n",
       "       [82.2489936 ],\n",
       "       [53.63671176],\n",
       "       [83.66681531],\n",
       "       [84.73284668],\n",
       "       [77.08940179],\n",
       "       [54.53217811],\n",
       "       [52.21889005],\n",
       "       [52.75190573],\n",
       "       [52.5706804 ],\n",
       "       [53.46614674],\n",
       "       [75.84214509],\n",
       "       [71.58867995],\n",
       "       [52.21889005],\n",
       "       [53.46614674],\n",
       "       [55.23575881],\n",
       "       [69.9896329 ],\n",
       "       [53.63671176],\n",
       "       [52.75190573],\n",
       "       [85.79887804],\n",
       "       [80.11693087],\n",
       "       [53.46614674],\n",
       "       [77.98486814],\n",
       "       [84.91407201],\n",
       "       [75.31978972],\n",
       "       [53.46614674],\n",
       "       [80.64994655],\n",
       "       [71.9404703 ],\n",
       "       [53.10369608],\n",
       "       [79.40268985],\n",
       "       [52.21889005],\n",
       "       [83.66681531],\n",
       "       [54.88396846],\n",
       "       [82.9525743 ],\n",
       "       [86.15066839],\n",
       "       [80.64994655],\n",
       "       [57.36782154],\n",
       "       [66.25852312],\n",
       "       [56.30179017],\n",
       "       [84.91407201],\n",
       "       [74.95733906],\n",
       "       [60.03289995],\n",
       "       [77.98486814],\n",
       "       [79.0508995 ],\n",
       "       [52.93313106],\n",
       "       [83.66681531],\n",
       "       [55.59820947],\n",
       "       [76.91883677],\n",
       "       [53.99916243],\n",
       "       [76.91883677],\n",
       "       [78.68844884],\n",
       "       [74.42432338],\n",
       "       [58.4338529 ],\n",
       "       [57.19725652],\n",
       "       [78.68844884],\n",
       "       [79.7544802 ],\n",
       "       [77.8036428 ],\n",
       "       [75.31978972],\n",
       "       [75.31978972],\n",
       "       [80.64994655],\n",
       "       [55.94999982],\n",
       "       [55.06519379],\n",
       "       [51.33408401],\n",
       "       [82.78200928],\n",
       "       [80.46872122],\n",
       "       [52.75190573],\n",
       "       [61.46138198],\n",
       "       [77.45185245],\n",
       "       [77.08940179],\n",
       "       [82.2489936 ],\n",
       "       [53.46614674],\n",
       "       [63.41221938],\n",
       "       [74.42432338],\n",
       "       [84.73284668],\n",
       "       [53.10369608],\n",
       "       [79.7544802 ],\n",
       "       [85.08463703],\n",
       "       [70.87443893],\n",
       "       [75.67158007],\n",
       "       [57.7302722 ],\n",
       "       [74.42432338],\n",
       "       [74.60554871],\n",
       "       [73.72074268],\n",
       "       [51.68587437],\n",
       "       [53.46614674],\n",
       "       [74.42432338],\n",
       "       [76.20459576],\n",
       "       [77.62241747],\n",
       "       [81.18296223],\n",
       "       [59.32931925],\n",
       "       [81.53475258],\n",
       "       [80.82051157],\n",
       "       [79.93570553],\n",
       "       [79.22146452],\n",
       "       [69.45661722],\n",
       "       [86.8649094 ],\n",
       "       [81.88654293],\n",
       "       [53.63671176],\n",
       "       [55.06519379],\n",
       "       [80.82051157],\n",
       "       [59.32931925],\n",
       "       [59.14809392],\n",
       "       [85.79887804],\n",
       "       [77.27062712],\n",
       "       [56.48301551],\n",
       "       [79.7544802 ],\n",
       "       [71.9404703 ],\n",
       "       [80.10627055],\n",
       "       [64.47825074],\n",
       "       [54.16972745],\n",
       "       [82.9525743 ],\n",
       "       [87.93094077],\n",
       "       [57.54904687],\n",
       "       [81.53475258],\n",
       "       [82.2489936 ],\n",
       "       [71.9404703 ],\n",
       "       [82.41955861],\n",
       "       [79.7544802 ],\n",
       "       [84.38105632],\n",
       "       [77.98486814],\n",
       "       [53.28492141],\n",
       "       [84.55162134],\n",
       "       [77.27062712],\n",
       "       [56.66424084],\n",
       "       [76.55638611],\n",
       "       [81.71597791],\n",
       "       [86.15066839],\n",
       "       [83.66681531],\n",
       "       [79.93570553],\n",
       "       [78.68844884],\n",
       "       [81.0017369 ],\n",
       "       [84.73284668],\n",
       "       [82.60078395],\n",
       "       [55.94999982],\n",
       "       [82.41955861]])"
      ]
     },
     "execution_count": 75,
     "metadata": {},
     "output_type": "execute_result"
    }
   ],
   "source": [
    "xtrain=model.predict(x_train)\n",
    "xtrain"
   ]
  },
  {
   "cell_type": "code",
   "execution_count": 76,
   "metadata": {},
   "outputs": [
    {
     "data": {
      "text/plain": [
       "38.03177325166236"
      ]
     },
     "execution_count": 76,
     "metadata": {},
     "output_type": "execute_result"
    }
   ],
   "source": [
    "from sklearn.metrics import mean_squared_error\n",
    "mean_squared_error(y_test,xtest)"
   ]
  },
  {
   "cell_type": "code",
   "execution_count": 77,
   "metadata": {},
   "outputs": [
    {
     "data": {
      "text/plain": [
       "0.8125470430516122"
      ]
     },
     "execution_count": 77,
     "metadata": {},
     "output_type": "execute_result"
    }
   ],
   "source": [
    "model.score(x_train,y_train)"
   ]
  },
  {
   "cell_type": "code",
   "execution_count": null,
   "metadata": {},
   "outputs": [],
   "source": []
  }
 ],
 "metadata": {
  "kernelspec": {
   "display_name": "Python 3.10.0 64-bit",
   "language": "python",
   "name": "python3"
  },
  "language_info": {
   "codemirror_mode": {
    "name": "ipython",
    "version": 3
   },
   "file_extension": ".py",
   "mimetype": "text/x-python",
   "name": "python",
   "nbconvert_exporter": "python",
   "pygments_lexer": "ipython3",
   "version": "3.10.0"
  },
  "orig_nbformat": 4,
  "vscode": {
   "interpreter": {
    "hash": "f9f548c2a1e31bee259243eb3cadef8e3f5df494eebd1547b8501ebadceda8c5"
   }
  }
 },
 "nbformat": 4,
 "nbformat_minor": 2
}
